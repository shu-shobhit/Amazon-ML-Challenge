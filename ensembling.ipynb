{
 "cells": [
  {
   "cell_type": "code",
   "execution_count": 24,
   "id": "aa2f2a6d",
   "metadata": {},
   "outputs": [],
   "source": [
    "import pandas as pd\n",
    "import numpy as np"
   ]
  },
  {
   "cell_type": "code",
   "execution_count": 31,
   "id": "1fbfd3f9",
   "metadata": {},
   "outputs": [],
   "source": [
    "sub1 = pd.read_csv(\n",
    "    'E:\\\\Resources\\\\My Projects\\\\Amazom_ML\\\\Submission_Final\\\\Submission_Files\\\\half_subm_img_txt_enc_CA-Fusion.csv')\n",
    "sub2 = pd.read_csv(\n",
    "    'E:\\\\Resources\\\\My Projects\\\\Amazom_ML\\\\Submission_Final\\\\Submission_Files\\\\Submission_distilBert_vit_large.csv')\n",
    "sub3 = pd.read_csv(\n",
    "    'E:\\\\Resources\\\\My Projects\\\\Amazom_ML\\\\Submission_Final\\\\Submission_Files\\\\Submission_distilRoberta_dinov2-Fusion.csv')\n",
    "sub4 = pd.read_csv(\n",
    "    'E:\\\\Resources\\\\My Projects\\\\Amazom_ML\\\\Submission_Final\\\\Submission_Files\\\\Submission-qwendino.csv')\n",
    "sub5 = pd.read_csv(\n",
    "    'E:\\\\Resources\\\\My Projects\\\\Amazom_ML\\\\Submission_Final\\\\Submission_Files\\\\Submission_Mlp_GLU_Fusion.csv')\n",
    "sub6 = pd.read_csv(\n",
    "    'E:\\\\Resources\\\\My Projects\\\\Amazom_ML\\\\Submission_Final\\\\Submission_Files\\\\SubmissionRobertaFineTuned.csv')"
   ]
  },
  {
   "cell_type": "code",
   "execution_count": 32,
   "id": "dcbb1426",
   "metadata": {},
   "outputs": [
    {
     "data": {
      "text/plain": [
       "Index(['sample_id', 'price'], dtype='object')"
      ]
     },
     "execution_count": 32,
     "metadata": {},
     "output_type": "execute_result"
    }
   ],
   "source": [
    "sub5.columns"
   ]
  },
  {
   "cell_type": "code",
   "execution_count": 33,
   "metadata": {},
   "outputs": [],
   "source": [
    "final_submission = pd.DataFrame()\n",
    "final_submission['sample_id'] = sub5['sample_id']\n",
    "final_submission['price'] = (\n",
    "    sub1['price'] + sub2['price'] + sub3['price'] + sub4['price'] + sub5['price'])/5"
   ]
  },
  {
   "cell_type": "code",
   "execution_count": 34,
   "id": "694f1c55",
   "metadata": {},
   "outputs": [
    {
     "data": {
      "application/vnd.microsoft.datawrangler.viewer.v0+json": {
       "columns": [
        {
         "name": "index",
         "rawType": "object",
         "type": "string"
        },
        {
         "name": "sample_id",
         "rawType": "float64",
         "type": "float"
        },
        {
         "name": "price",
         "rawType": "float64",
         "type": "float"
        }
       ],
       "ref": "69bcee06-7412-4a7d-8aef-cec5064507f3",
       "rows": [
        [
         "count",
         "75000.0",
         "75000.0"
        ],
        [
         "mean",
         "149387.98888",
         "21.101735681858237"
        ],
        [
         "std",
         "86763.37673186784",
         "21.866856006160788"
        ],
        [
         "min",
         "1.0",
         "1.4315752863883973"
        ],
        [
         "25%",
         "73760.5",
         "8.28384804725647"
        ],
        [
         "50%",
         "149109.5",
         "14.396904993057252"
        ],
        [
         "75%",
         "224529.75",
         "25.17282428741455"
        ],
        [
         "max",
         "299439.0",
         "217.2039794921875"
        ]
       ],
       "shape": {
        "columns": 2,
        "rows": 8
       }
      },
      "text/html": [
       "<div>\n",
       "<style scoped>\n",
       "    .dataframe tbody tr th:only-of-type {\n",
       "        vertical-align: middle;\n",
       "    }\n",
       "\n",
       "    .dataframe tbody tr th {\n",
       "        vertical-align: top;\n",
       "    }\n",
       "\n",
       "    .dataframe thead th {\n",
       "        text-align: right;\n",
       "    }\n",
       "</style>\n",
       "<table border=\"1\" class=\"dataframe\">\n",
       "  <thead>\n",
       "    <tr style=\"text-align: right;\">\n",
       "      <th></th>\n",
       "      <th>sample_id</th>\n",
       "      <th>price</th>\n",
       "    </tr>\n",
       "  </thead>\n",
       "  <tbody>\n",
       "    <tr>\n",
       "      <th>count</th>\n",
       "      <td>75000.000000</td>\n",
       "      <td>75000.000000</td>\n",
       "    </tr>\n",
       "    <tr>\n",
       "      <th>mean</th>\n",
       "      <td>149387.988880</td>\n",
       "      <td>21.101736</td>\n",
       "    </tr>\n",
       "    <tr>\n",
       "      <th>std</th>\n",
       "      <td>86763.376732</td>\n",
       "      <td>21.866856</td>\n",
       "    </tr>\n",
       "    <tr>\n",
       "      <th>min</th>\n",
       "      <td>1.000000</td>\n",
       "      <td>1.431575</td>\n",
       "    </tr>\n",
       "    <tr>\n",
       "      <th>25%</th>\n",
       "      <td>73760.500000</td>\n",
       "      <td>8.283848</td>\n",
       "    </tr>\n",
       "    <tr>\n",
       "      <th>50%</th>\n",
       "      <td>149109.500000</td>\n",
       "      <td>14.396905</td>\n",
       "    </tr>\n",
       "    <tr>\n",
       "      <th>75%</th>\n",
       "      <td>224529.750000</td>\n",
       "      <td>25.172824</td>\n",
       "    </tr>\n",
       "    <tr>\n",
       "      <th>max</th>\n",
       "      <td>299439.000000</td>\n",
       "      <td>217.203979</td>\n",
       "    </tr>\n",
       "  </tbody>\n",
       "</table>\n",
       "</div>"
      ],
      "text/plain": [
       "           sample_id         price\n",
       "count   75000.000000  75000.000000\n",
       "mean   149387.988880     21.101736\n",
       "std     86763.376732     21.866856\n",
       "min         1.000000      1.431575\n",
       "25%     73760.500000      8.283848\n",
       "50%    149109.500000     14.396905\n",
       "75%    224529.750000     25.172824\n",
       "max    299439.000000    217.203979"
      ]
     },
     "execution_count": 34,
     "metadata": {},
     "output_type": "execute_result"
    }
   ],
   "source": [
    "final_submission.describe()"
   ]
  },
  {
   "cell_type": "code",
   "execution_count": 35,
   "id": "f3f5793f",
   "metadata": {},
   "outputs": [
    {
     "data": {
      "application/vnd.microsoft.datawrangler.viewer.v0+json": {
       "columns": [
        {
         "name": "index",
         "rawType": "object",
         "type": "string"
        },
        {
         "name": "sample_id",
         "rawType": "float64",
         "type": "float"
        },
        {
         "name": "price",
         "rawType": "float64",
         "type": "float"
        }
       ],
       "ref": "1bd92ea0-b11a-43af-b737-9b440a9f473b",
       "rows": [
        [
         "count",
         "75000.0",
         "75000.0"
        ],
        [
         "mean",
         "149387.98888",
         "21.284941601092022"
        ],
        [
         "std",
         "86763.37673186784",
         "25.095466957616054"
        ],
        [
         "min",
         "1.0",
         "2.222947835922241"
        ],
        [
         "25%",
         "73760.5",
         "7.110574960708618"
        ],
        [
         "50%",
         "149109.5",
         "13.083290100097656"
        ],
        [
         "75%",
         "224529.75",
         "24.912487030029297"
        ],
        [
         "max",
         "299439.0",
         "181.71446228027344"
        ]
       ],
       "shape": {
        "columns": 2,
        "rows": 8
       }
      },
      "text/html": [
       "<div>\n",
       "<style scoped>\n",
       "    .dataframe tbody tr th:only-of-type {\n",
       "        vertical-align: middle;\n",
       "    }\n",
       "\n",
       "    .dataframe tbody tr th {\n",
       "        vertical-align: top;\n",
       "    }\n",
       "\n",
       "    .dataframe thead th {\n",
       "        text-align: right;\n",
       "    }\n",
       "</style>\n",
       "<table border=\"1\" class=\"dataframe\">\n",
       "  <thead>\n",
       "    <tr style=\"text-align: right;\">\n",
       "      <th></th>\n",
       "      <th>sample_id</th>\n",
       "      <th>price</th>\n",
       "    </tr>\n",
       "  </thead>\n",
       "  <tbody>\n",
       "    <tr>\n",
       "      <th>count</th>\n",
       "      <td>75000.000000</td>\n",
       "      <td>75000.000000</td>\n",
       "    </tr>\n",
       "    <tr>\n",
       "      <th>mean</th>\n",
       "      <td>149387.988880</td>\n",
       "      <td>21.284942</td>\n",
       "    </tr>\n",
       "    <tr>\n",
       "      <th>std</th>\n",
       "      <td>86763.376732</td>\n",
       "      <td>25.095467</td>\n",
       "    </tr>\n",
       "    <tr>\n",
       "      <th>min</th>\n",
       "      <td>1.000000</td>\n",
       "      <td>2.222948</td>\n",
       "    </tr>\n",
       "    <tr>\n",
       "      <th>25%</th>\n",
       "      <td>73760.500000</td>\n",
       "      <td>7.110575</td>\n",
       "    </tr>\n",
       "    <tr>\n",
       "      <th>50%</th>\n",
       "      <td>149109.500000</td>\n",
       "      <td>13.083290</td>\n",
       "    </tr>\n",
       "    <tr>\n",
       "      <th>75%</th>\n",
       "      <td>224529.750000</td>\n",
       "      <td>24.912487</td>\n",
       "    </tr>\n",
       "    <tr>\n",
       "      <th>max</th>\n",
       "      <td>299439.000000</td>\n",
       "      <td>181.714462</td>\n",
       "    </tr>\n",
       "  </tbody>\n",
       "</table>\n",
       "</div>"
      ],
      "text/plain": [
       "           sample_id         price\n",
       "count   75000.000000  75000.000000\n",
       "mean   149387.988880     21.284942\n",
       "std     86763.376732     25.095467\n",
       "min         1.000000      2.222948\n",
       "25%     73760.500000      7.110575\n",
       "50%    149109.500000     13.083290\n",
       "75%    224529.750000     24.912487\n",
       "max    299439.000000    181.714462"
      ]
     },
     "execution_count": 35,
     "metadata": {},
     "output_type": "execute_result"
    }
   ],
   "source": [
    "sub3.describe()"
   ]
  },
  {
   "cell_type": "code",
   "execution_count": 36,
   "id": "7f31b2bb",
   "metadata": {},
   "outputs": [],
   "source": [
    "final_submission.to_csv('FinalEnsembleSubmission.csv', index=False)"
   ]
  },
  {
   "cell_type": "code",
   "execution_count": 37,
   "id": "84bdead1",
   "metadata": {},
   "outputs": [
    {
     "data": {
      "application/vnd.microsoft.datawrangler.viewer.v0+json": {
       "columns": [
        {
         "name": "index",
         "rawType": "int64",
         "type": "integer"
        },
        {
         "name": "sample_id",
         "rawType": "int64",
         "type": "integer"
        },
        {
         "name": "price",
         "rawType": "float64",
         "type": "float"
        }
       ],
       "ref": "04ffa063-22d9-40fb-b7f3-7988e07ff0b6",
       "rows": [
        [
         "0",
         "100179",
         "15.578362274169923"
        ],
        [
         "1",
         "245611",
         "10.902655792236327"
        ],
        [
         "2",
         "146263",
         "21.961122894287108"
        ],
        [
         "3",
         "95658",
         "6.6216048240661625"
        ],
        [
         "4",
         "36806",
         "31.39650077819824"
        ],
        [
         "5",
         "148239",
         "5.064807796478272"
        ],
        [
         "6",
         "92659",
         "6.318186950683594"
        ],
        [
         "7",
         "3780",
         "10.076705360412598"
        ],
        [
         "8",
         "196940",
         "18.584559440612793"
        ],
        [
         "9",
         "20472",
         "9.42764596939087"
        ],
        [
         "10",
         "121721",
         "22.919926834106445"
        ],
        [
         "11",
         "127336",
         "2.8237403869628905"
        ],
        [
         "12",
         "20801",
         "47.47012481689453"
        ],
        [
         "13",
         "30103",
         "8.679726219177246"
        ],
        [
         "14",
         "68691",
         "15.442766571044922"
        ],
        [
         "15",
         "230703",
         "15.712081813812256"
        ],
        [
         "16",
         "3342",
         "42.708150482177736"
        ],
        [
         "17",
         "115635",
         "17.53178186416626"
        ],
        [
         "18",
         "221565",
         "8.326640033721924"
        ],
        [
         "19",
         "265927",
         "14.966987037658692"
        ],
        [
         "20",
         "290421",
         "13.349870967864991"
        ],
        [
         "21",
         "222203",
         "3.5552976608276365"
        ],
        [
         "22",
         "40595",
         "5.080612707138061"
        ],
        [
         "23",
         "157931",
         "14.573146629333497"
        ],
        [
         "24",
         "41814",
         "16.41015739440918"
        ],
        [
         "25",
         "250478",
         "55.17398452758789"
        ],
        [
         "26",
         "130232",
         "7.227789354324341"
        ],
        [
         "27",
         "155825",
         "19.230179405212404"
        ],
        [
         "28",
         "42104",
         "9.033990097045898"
        ],
        [
         "29",
         "148748",
         "44.98427200317383"
        ],
        [
         "30",
         "247548",
         "17.85184669494629"
        ],
        [
         "31",
         "262167",
         "22.2890266418457"
        ],
        [
         "32",
         "100183",
         "23.960623931884765"
        ],
        [
         "33",
         "168985",
         "2.7835141897201536"
        ],
        [
         "34",
         "18411",
         "70.029541015625"
        ],
        [
         "35",
         "111287",
         "14.569385385513305"
        ],
        [
         "36",
         "156813",
         "5.780915927886963"
        ],
        [
         "37",
         "194861",
         "3.915967321395874"
        ],
        [
         "38",
         "104298",
         "16.23089256286621"
        ],
        [
         "39",
         "59033",
         "19.834481620788573"
        ],
        [
         "40",
         "31133",
         "37.06427440643311"
        ],
        [
         "41",
         "299318",
         "3.2836366176605223"
        ],
        [
         "42",
         "255038",
         "16.072483158111574"
        ],
        [
         "43",
         "220578",
         "48.27947216033935"
        ],
        [
         "44",
         "38995",
         "26.97950973510742"
        ],
        [
         "45",
         "253068",
         "7.34685173034668"
        ],
        [
         "46",
         "282143",
         "10.843174171447753"
        ],
        [
         "47",
         "226531",
         "12.95389003753662"
        ],
        [
         "48",
         "233215",
         "73.8489486694336"
        ],
        [
         "49",
         "33295",
         "6.096443462371826"
        ]
       ],
       "shape": {
        "columns": 2,
        "rows": 75000
       }
      },
      "text/html": [
       "<div>\n",
       "<style scoped>\n",
       "    .dataframe tbody tr th:only-of-type {\n",
       "        vertical-align: middle;\n",
       "    }\n",
       "\n",
       "    .dataframe tbody tr th {\n",
       "        vertical-align: top;\n",
       "    }\n",
       "\n",
       "    .dataframe thead th {\n",
       "        text-align: right;\n",
       "    }\n",
       "</style>\n",
       "<table border=\"1\" class=\"dataframe\">\n",
       "  <thead>\n",
       "    <tr style=\"text-align: right;\">\n",
       "      <th></th>\n",
       "      <th>sample_id</th>\n",
       "      <th>price</th>\n",
       "    </tr>\n",
       "  </thead>\n",
       "  <tbody>\n",
       "    <tr>\n",
       "      <th>0</th>\n",
       "      <td>100179</td>\n",
       "      <td>15.578362</td>\n",
       "    </tr>\n",
       "    <tr>\n",
       "      <th>1</th>\n",
       "      <td>245611</td>\n",
       "      <td>10.902656</td>\n",
       "    </tr>\n",
       "    <tr>\n",
       "      <th>2</th>\n",
       "      <td>146263</td>\n",
       "      <td>21.961123</td>\n",
       "    </tr>\n",
       "    <tr>\n",
       "      <th>3</th>\n",
       "      <td>95658</td>\n",
       "      <td>6.621605</td>\n",
       "    </tr>\n",
       "    <tr>\n",
       "      <th>4</th>\n",
       "      <td>36806</td>\n",
       "      <td>31.396501</td>\n",
       "    </tr>\n",
       "    <tr>\n",
       "      <th>...</th>\n",
       "      <td>...</td>\n",
       "      <td>...</td>\n",
       "    </tr>\n",
       "    <tr>\n",
       "      <th>74995</th>\n",
       "      <td>93616</td>\n",
       "      <td>4.617707</td>\n",
       "    </tr>\n",
       "    <tr>\n",
       "      <th>74996</th>\n",
       "      <td>249434</td>\n",
       "      <td>12.730202</td>\n",
       "    </tr>\n",
       "    <tr>\n",
       "      <th>74997</th>\n",
       "      <td>162217</td>\n",
       "      <td>3.497768</td>\n",
       "    </tr>\n",
       "    <tr>\n",
       "      <th>74998</th>\n",
       "      <td>230487</td>\n",
       "      <td>14.818935</td>\n",
       "    </tr>\n",
       "    <tr>\n",
       "      <th>74999</th>\n",
       "      <td>279477</td>\n",
       "      <td>11.163867</td>\n",
       "    </tr>\n",
       "  </tbody>\n",
       "</table>\n",
       "<p>75000 rows × 2 columns</p>\n",
       "</div>"
      ],
      "text/plain": [
       "       sample_id      price\n",
       "0         100179  15.578362\n",
       "1         245611  10.902656\n",
       "2         146263  21.961123\n",
       "3          95658   6.621605\n",
       "4          36806  31.396501\n",
       "...          ...        ...\n",
       "74995      93616   4.617707\n",
       "74996     249434  12.730202\n",
       "74997     162217   3.497768\n",
       "74998     230487  14.818935\n",
       "74999     279477  11.163867\n",
       "\n",
       "[75000 rows x 2 columns]"
      ]
     },
     "execution_count": 37,
     "metadata": {},
     "output_type": "execute_result"
    }
   ],
   "source": [
    "final_submission"
   ]
  },
  {
   "cell_type": "code",
   "execution_count": null,
   "id": "b0efba0a",
   "metadata": {},
   "outputs": [],
   "source": []
  }
 ],
 "metadata": {
  "kernelspec": {
   "display_name": "ML",
   "language": "python",
   "name": "python3"
  },
  "language_info": {
   "codemirror_mode": {
    "name": "ipython",
    "version": 3
   },
   "file_extension": ".py",
   "mimetype": "text/x-python",
   "name": "python",
   "nbconvert_exporter": "python",
   "pygments_lexer": "ipython3",
   "version": "3.12.3"
  }
 },
 "nbformat": 4,
 "nbformat_minor": 5
}
